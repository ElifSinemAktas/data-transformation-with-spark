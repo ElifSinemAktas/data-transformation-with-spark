{
 "cells": [
  {
   "cell_type": "markdown",
   "id": "f7eedeca-c1d4-479b-af71-d367eefb5f3c",
   "metadata": {},
   "source": [
    "##### MOVIES & CREDITS | EXPECTED OUTPUTS"
   ]
  },
  {
   "cell_type": "markdown",
   "id": "48ae9be9-a5ea-4120-996d-219bdb1d238a",
   "metadata": {},
   "source": [
    "##### 1. CAST\n",
    "\n",
    "```commandline\n",
    "+--------+------+-------+-------------------+------------------------+------+-----+----------------+\n",
    "|movie_id|title |cast_id|character          |credit_id               |gender|id   |name            |\n",
    "+--------+------+-------+-------------------+------------------------+------+-----+----------------+\n",
    "|19995   |Avatar|242    |Jake Sully         |5602a8a7c3a3685532001c9a|2     |65731|Sam Worthington |\n",
    "|19995   |Avatar|3      |Neytiri            |52fe48009251416c750ac9cb|1     |8691 |Zoe Saldana     |\n",
    "|19995   |Avatar|25     |Dr. Grace Augustine|52fe48009251416c750aca39|1     |10205|Sigourney Weaver|\n",
    "|19995   |Avatar|4      |Col. Quaritch      |52fe48009251416c750ac9cf|2     |32747|Stephen Lang    |\n",
    "+--------+------+-------+-------------------+------------------------+------+-----+----------------+\n",
    "```\n",
    "- One row represents one player. \n",
    "- credit_id nulls must be imputed with \"0000000000\"."
   ]
  },
  {
   "cell_type": "markdown",
   "id": "d8b350b1-2fe9-4a2a-a6c0-b7fb9d9fe302",
   "metadata": {},
   "source": [
    "##### 2. CREW\n",
    "```commandline\n",
    "+--------+------+------------------------+----------+------+----+------------------------+-----------------+\n",
    "|movie_id|title |credit_id               |department|gender|id  |job                     |name             |\n",
    "+--------+------+------------------------+----------+------+----+------------------------+-----------------+\n",
    "|19995   |Avatar|52fe48009251416c750aca23|Editing   |0     |1721|Editor                  |Stephen E. Rivkin|\n",
    "|19995   |Avatar|539c47ecc3a36810e3001f87|Art       |2     |496 |Production Design       |Rick Carter      |\n",
    "|19995   |Avatar|54491c89c3a3680fb4001cf7|Sound     |0     |900 |Sound Designer          |Christopher Boyes|\n",
    "|19995   |Avatar|54491cb70e0a267480001bd0|Sound     |0     |900 |Supervising Sound Editor|Christopher Boyes|\n",
    "+--------+------+------------------------+----------+------+----+------------------------+-----------------+\n",
    "```\n",
    "- One row represents one crew.\n",
    "- credit_id nulls must be imputed with \"0000000000\"."
   ]
  },
  {
   "cell_type": "markdown",
   "id": "9a8698c3-43a0-4778-86fb-11e95498a5a0",
   "metadata": {},
   "source": [
    "##### 3. MOVIES\n",
    "```commandline \n",
    "+--------+--------------------+------+--------------------+-----------------+--------------------+--------------------+----------+------------+-------------+-------+--------+--------------------+------------+----------+\n",
    "|movie_id|               title|budget|            homepage|original_language|      original_title|            overview|popularity|release_date|      revenue|runtime|  status|             tagline|vote_average|vote_count|\n",
    "+--------+--------------------+------+--------------------+-----------------+--------------------+--------------------+----------+------------+-------------+-------+--------+--------------------+------------+----------+\n",
    "|   19995|              Avatar|2.37E8|http://www.avatar...|               en|              Avatar|In the 22nd centu...| 150.43758|  2009-12-10|2.787965087E9|    162|Released|Enter the World o...|         7.2|     11800|\n",
    "|     285|Pirates of the Ca...| 3.0E8|http://disney.go....|               en|Pirates of the Ca...|Captain Barbossa,...| 139.08261|  2007-05-19|       9.61E8|    169|Released|At the end of the...|         6.9|      4500|\n",
    "|  206647|             Spectre|2.45E8|http://www.sonypi...|               en|             Spectre|A cryptic message...|107.376785|  2015-10-26| 8.80674609E8|    148|Released|A Plan No One Esc...|         6.3|      4466|\n",
    "|   49026|The Dark Knight R...| 2.5E8|http://www.thedar...|               en|The Dark Knight R...|Following the dea...| 112.31295|  2012-07-16|1.084939099E9|    165|Released|     The Legend Ends|         7.6|      9106|\n",
    "|   49529|         John Carter| 2.6E8|http://movies.dis...|               en|         John Carter|John Carter is a ...| 43.926994|  2012-03-07|   2.841391E8|    132|Released|Lost in our world...|         6.1|      2124|\n",
    "+--------+--------------------+------+--------------------+-----------------+--------------------+--------------------+----------+------------+-------------+-------+--------+--------------------+------------+----------+\n",
    "```\n",
    "- Schema:\n",
    "```commandline\n",
    "root\n",
    " |-- movie_id: string (nullable = true)\n",
    " |-- title: string (nullable = true)\n",
    " |-- budget: double (nullable = true)\n",
    " |-- homepage: string (nullable = true)\n",
    " |-- original_language: string (nullable = true)\n",
    " |-- original_title: string (nullable = true)\n",
    " |-- overview: string (nullable = true)\n",
    " |-- popularity: float (nullable = true)\n",
    " |-- release_date: date (nullable = true)\n",
    " |-- revenue: double (nullable = true)\n",
    " |-- runtime: integer (nullable = true)\n",
    " |-- status: string (nullable = true)\n",
    " |-- tagline: string (nullable = true)\n",
    " |-- vote_average: float (nullable = true)\n",
    " |-- vote_count: integer (nullable = true)\n",
    "```"
   ]
  },
  {
   "cell_type": "markdown",
   "id": "f985b7b0-1006-4555-a221-201395d98e68",
   "metadata": {},
   "source": [
    "##### 4. GENRES\n",
    "```commandline\n",
    "+--------+---+---------------+\n",
    "|movie_id| id|           name|\n",
    "+--------+---+---------------+\n",
    "|   19995| 28|         Action|\n",
    "|   19995| 12|      Adventure|\n",
    "|   19995| 14|        Fantasy|\n",
    "|   19995|878|Science Fiction|\n",
    "|     285| 12|      Adventure|\n",
    "+--------+---+---------------+\n",
    "```\n",
    "- Schema\n",
    "```commandline\n",
    "root\n",
    " |-- movie_id: string (nullable = true)\n",
    " |-- id: integer (nullable = true)\n",
    " |-- name: string (nullable = true)\n",
    "```\n",
    "- id nulls must be imputed with -9999."
   ]
  },
  {
   "cell_type": "markdown",
   "id": "b210ddc0-ee33-432b-a892-0cfd7571ce87",
   "metadata": {},
   "source": [
    "##### 5. KEYWORDS\n",
    "```commandline\n",
    "+--------+----+-------------+\n",
    "|movie_id|  id|         name|\n",
    "+--------+----+-------------+\n",
    "|   19995|1463|culture clash|\n",
    "|   19995|2964|       future|\n",
    "|   19995|3386|    space war|\n",
    "|   19995|3388| space colony|\n",
    "|   19995|3679|      society|\n",
    "+--------+----+-------------+\n",
    "```\n",
    "- Schema\n",
    "```commandline\n",
    "root\n",
    " |-- movie_id: string (nullable = true)\n",
    " |-- id: integer (nullable = true)\n",
    " |-- name: string (nullable = true)\n",
    "```\n",
    "- id nulls must be imputed with -9999."
   ]
  },
  {
   "cell_type": "markdown",
   "id": "9be00224-8613-495b-953f-a84d84f05350",
   "metadata": {},
   "source": [
    "##### 6. PRODUCTION_COMPANIES\n",
    "```commandline\n",
    "+--------+---+--------------------+\n",
    "|movie_id| id|                name|\n",
    "+--------+---+--------------------+\n",
    "|   19995|289|Ingenious Film Pa...|\n",
    "|   19995|306|Twentieth Century...|\n",
    "|   19995|444|  Dune Entertainment|\n",
    "|   19995|574|Lightstorm Entert...|\n",
    "|     285|  2|Walt Disney Pictures|\n",
    "+--------+---+--------------------+\n",
    "```\n",
    "- Schema\n",
    "```commandline\n",
    "root\n",
    " |-- movie_id: string (nullable = true)\n",
    " |-- id: integer (nullable = true)\n",
    " |-- name: string (nullable = true)\n",
    "```\n",
    "- id nulls must be imputed with -9999."
   ]
  },
  {
   "cell_type": "markdown",
   "id": "13cd9667-80b3-44d3-9935-716fc68aa91f",
   "metadata": {},
   "source": [
    "##### 7. PRODUCTION_COUNTRIES\n",
    "```commandline\n",
    "+--------+----------+--------------------+\n",
    "|movie_id|iso_3166_1|                name|\n",
    "+--------+----------+--------------------+\n",
    "|   19995|        US|United States of ...|\n",
    "|   19995|        GB|      United Kingdom|\n",
    "|     285|        US|United States of ...|\n",
    "|  206647|        GB|      United Kingdom|\n",
    "|  206647|        US|United States of ...|\n",
    "+--------+----------+--------------------+\n",
    "```\n",
    "- Schema\n",
    "```commandline\n",
    "root\n",
    " |-- movie_id: string (nullable = true)\n",
    " |-- iso_3166_1: string (nullable = true)\n",
    " |-- name: string (nullable = true)\n",
    "```\n",
    "- iso_3166_1 nulls must be imputed with XX."
   ]
  },
  {
   "cell_type": "markdown",
   "id": "40f4fcbc-3db4-416c-b373-110bc0dd1b9c",
   "metadata": {},
   "source": [
    "##### 8. SPOKEN_LANGUAGES\n",
    "```commandline\n",
    "+--------+---------+--------+\n",
    "|movie_id|iso_639_1|    name|\n",
    "+--------+---------+--------+\n",
    "|   19995|       en| English|\n",
    "|   19995|       es| Español|\n",
    "|     285|       en| English|\n",
    "|  206647|       fr|Français|\n",
    "|  206647|       en| English|\n",
    "+--------+---------+--------+\n",
    "```\n",
    "- Schema\n",
    "```commandline\n",
    "root\n",
    " |-- movie_id: string (nullable = true)\n",
    " |-- iso_639_1: string (nullable = true)\n",
    " |-- name: string (nullable = true)\n",
    "```\n",
    "- iso_639_1 nulls must be imputed with XX."
   ]
  }
 ],
 "metadata": {
  "kernelspec": {
   "display_name": "venvspark",
   "language": "python",
   "name": "venvspark"
  },
  "language_info": {
   "codemirror_mode": {
    "name": "ipython",
    "version": 3
   },
   "file_extension": ".py",
   "mimetype": "text/x-python",
   "name": "python",
   "nbconvert_exporter": "python",
   "pygments_lexer": "ipython3",
   "version": "3.8.12"
  }
 },
 "nbformat": 4,
 "nbformat_minor": 5
}
